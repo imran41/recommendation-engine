{
  "cells": [
    {
      "cell_type": "code",
      "execution_count": 37,
      "metadata": {
        "id": "wbg4cTuwZjMi"
      },
      "outputs": [],
      "source": [
        "import numpy as np\n",
        "import pandas as pd"
      ]
    },
    {
      "cell_type": "code",
      "execution_count": 38,
      "metadata": {
        "colab": {
          "base_uri": "https://localhost:8080/",
          "height": 237
        },
        "id": "9ZNETI9aZ70M",
        "outputId": "b155688a-c674-4d80-d7ca-bff341da7a8a"
      },
      "outputs": [],
      "source": [
        "df = pd.read_csv(r\"D:\\Project\\new_cuisine.csv\", encoding='UTF-8')"
      ]
    },
    {
      "cell_type": "code",
      "execution_count": 39,
      "metadata": {
        "colab": {
          "base_uri": "https://localhost:8080/",
          "height": 424
        },
        "id": "PrXPohbkaBNd",
        "outputId": "025d12f1-e122-4410-981c-74eaf120778f"
      },
      "outputs": [
        {
          "data": {
            "text/html": [
              "<div>\n",
              "<style scoped>\n",
              "    .dataframe tbody tr th:only-of-type {\n",
              "        vertical-align: middle;\n",
              "    }\n",
              "\n",
              "    .dataframe tbody tr th {\n",
              "        vertical-align: top;\n",
              "    }\n",
              "\n",
              "    .dataframe thead th {\n",
              "        text-align: right;\n",
              "    }\n",
              "</style>\n",
              "<table border=\"1\" class=\"dataframe\">\n",
              "  <thead>\n",
              "    <tr style=\"text-align: right;\">\n",
              "      <th></th>\n",
              "      <th>DishName</th>\n",
              "      <th>DishType</th>\n",
              "    </tr>\n",
              "  </thead>\n",
              "  <tbody>\n",
              "    <tr>\n",
              "      <th>0</th>\n",
              "      <td>Idly</td>\n",
              "      <td>Split urad dal, urad dal, idli rice, thick poh...</td>\n",
              "    </tr>\n",
              "    <tr>\n",
              "      <th>1</th>\n",
              "      <td>Sambar Idly</td>\n",
              "      <td>Lentils,spices, herbs, urad dal,Breakfast, sou...</td>\n",
              "    </tr>\n",
              "    <tr>\n",
              "      <th>2</th>\n",
              "      <td>Vada</td>\n",
              "      <td>Pigeon pea, chickpea,Potato, Breakfast, southi...</td>\n",
              "    </tr>\n",
              "    <tr>\n",
              "      <th>3</th>\n",
              "      <td>Dosa</td>\n",
              "      <td>urad dal,blend rice, Breakfast, southindian br...</td>\n",
              "    </tr>\n",
              "    <tr>\n",
              "      <th>4</th>\n",
              "      <td>Mysore Bonda</td>\n",
              "      <td>Rice flour,Breakfast, southindian breakfast</td>\n",
              "    </tr>\n",
              "    <tr>\n",
              "      <th>...</th>\n",
              "      <td>...</td>\n",
              "      <td>...</td>\n",
              "    </tr>\n",
              "    <tr>\n",
              "      <th>150</th>\n",
              "      <td>Chocolate Pastry</td>\n",
              "      <td>desserts, side dish, sweet</td>\n",
              "    </tr>\n",
              "    <tr>\n",
              "      <th>151</th>\n",
              "      <td>Malai Kulfi</td>\n",
              "      <td>desserts, side dish, cold</td>\n",
              "    </tr>\n",
              "    <tr>\n",
              "      <th>152</th>\n",
              "      <td>Shahi Tukda</td>\n",
              "      <td>desserts, side dish,sweeet,</td>\n",
              "    </tr>\n",
              "    <tr>\n",
              "      <th>153</th>\n",
              "      <td>Carrot Halwa</td>\n",
              "      <td>desserts, side dish, halwa, sweet</td>\n",
              "    </tr>\n",
              "    <tr>\n",
              "      <th>154</th>\n",
              "      <td>Moong daal Halwa</td>\n",
              "      <td>desserts, side dish, halwa, sweet</td>\n",
              "    </tr>\n",
              "  </tbody>\n",
              "</table>\n",
              "<p>155 rows × 2 columns</p>\n",
              "</div>"
            ],
            "text/plain": [
              "             DishName                                           DishType\n",
              "0                Idly  Split urad dal, urad dal, idli rice, thick poh...\n",
              "1         Sambar Idly  Lentils,spices, herbs, urad dal,Breakfast, sou...\n",
              "2                Vada  Pigeon pea, chickpea,Potato, Breakfast, southi...\n",
              "3                Dosa  urad dal,blend rice, Breakfast, southindian br...\n",
              "4        Mysore Bonda        Rice flour,Breakfast, southindian breakfast\n",
              "..                ...                                                ...\n",
              "150  Chocolate Pastry                         desserts, side dish, sweet\n",
              "151       Malai Kulfi                          desserts, side dish, cold\n",
              "152       Shahi Tukda                        desserts, side dish,sweeet,\n",
              "153      Carrot Halwa                  desserts, side dish, halwa, sweet\n",
              "154  Moong daal Halwa                  desserts, side dish, halwa, sweet\n",
              "\n",
              "[155 rows x 2 columns]"
            ]
          },
          "execution_count": 39,
          "metadata": {},
          "output_type": "execute_result"
        }
      ],
      "source": [
        "data = df.iloc[:,[0,4]]\n",
        "data"
      ]
    },
    {
      "cell_type": "code",
      "execution_count": 40,
      "metadata": {
        "id": "tJZr3IMfaM-U"
      },
      "outputs": [],
      "source": [
        "from sklearn.feature_extraction.text import TfidfVectorizer"
      ]
    },
    {
      "cell_type": "code",
      "execution_count": 41,
      "metadata": {
        "id": "Tbx6xCd_aiaG"
      },
      "outputs": [],
      "source": [
        "tfidf = TfidfVectorizer(stop_words=\"english\")"
      ]
    },
    {
      "cell_type": "code",
      "execution_count": 42,
      "metadata": {
        "colab": {
          "base_uri": "https://localhost:8080/"
        },
        "id": "o6b_p4B6at7-",
        "outputId": "8184a19a-cc65-4868-8e11-312949a5e5ef"
      },
      "outputs": [],
      "source": [
        "tfidf_matrix = tfidf.fit_transform(data[\"DishType\"])"
      ]
    },
    {
      "cell_type": "code",
      "execution_count": 43,
      "metadata": {
        "id": "FyTs3vh-a8BP"
      },
      "outputs": [],
      "source": [
        "from sklearn.metrics.pairwise import linear_kernel"
      ]
    },
    {
      "cell_type": "code",
      "execution_count": 44,
      "metadata": {
        "colab": {
          "base_uri": "https://localhost:8080/"
        },
        "id": "FbeEmlTdbILX",
        "outputId": "07884eaf-f7c2-4458-e862-3b9c4271872f"
      },
      "outputs": [],
      "source": [
        "cos_sim_matrix = linear_kernel(tfidf_matrix, tfidf_matrix)\n"
      ]
    },
    {
      "cell_type": "code",
      "execution_count": 45,
      "metadata": {
        "colab": {
          "base_uri": "https://localhost:8080/"
        },
        "id": "i-X4sfnFbVD0",
        "outputId": "976adc47-13da-4644-9ac2-0de641408ad8"
      },
      "outputs": [],
      "source": [
        "data_index = pd.Series(data.index, index =data[\"DishName\"]).drop_duplicates()\n"
      ]
    },
    {
      "cell_type": "code",
      "execution_count": 46,
      "metadata": {
        "id": "9t6Om8JLbkbx"
      },
      "outputs": [],
      "source": [
        "def find_food(Name, topN):\n",
        "  data_id = data_index[Name]\n",
        "  cosine_scores = list(enumerate(cos_sim_matrix[data_id]))\n",
        "  cosine_scores = sorted(cosine_scores, key = lambda x:x[1], reverse = True)\n",
        "  cosine_scores_N = cosine_scores[0: topN+1]\n",
        "  data_idx = [i[0] for i in cosine_scores_N]\n",
        "  data_scores = [i[1] for i in cosine_scores_N]\n",
        "  \n",
        "  data_similar = pd.DataFrame(columns = [\"DishName\",\"Scores\"])\n",
        "  data_similar[\"DishName\"] = data.loc[data_idx, \"DishName\"]\n",
        "  data_similar[\"Scores\"] = data_scores\n",
        "\n",
        "  print(data_similar)"
      ]
    },
    {
      "cell_type": "code",
      "execution_count": 47,
      "metadata": {
        "colab": {
          "base_uri": "https://localhost:8080/"
        },
        "id": "uZ2hmAW-cSG1",
        "outputId": "c2b8efb7-443c-41fc-b71b-bc73b0c155cb"
      },
      "outputs": [
        {
          "name": "stdout",
          "output_type": "stream",
          "text": [
            "          DishName    Scores\n",
            "4     Mysore Bonda  1.000000\n",
            "13         Paratha  0.811810\n",
            "10       Idiyappam  0.782631\n",
            "6   Only Pesarattu  0.685123\n",
            "8           Pongal  0.661735\n",
            "14    Methi Thepla  0.648595\n",
            "15     Poori Bhaji  0.648595\n",
            "3             Dosa  0.590410\n",
            "9            Appam  0.580975\n",
            "11         Parotta  0.576119\n",
            "16            Poha  0.469657\n"
          ]
        }
      ],
      "source": [
        "find_food(\"Mysore Bonda\", topN = 10)"
      ]
    },
    {
      "cell_type": "code",
      "execution_count": 48,
      "metadata": {
        "colab": {
          "base_uri": "https://localhost:8080/"
        },
        "id": "OAg9uOfdcbdF",
        "outputId": "28a278da-056a-49a8-e931-b387e96c3847"
      },
      "outputs": [
        {
          "name": "stdout",
          "output_type": "stream",
          "text": [
            "            DishName    Scores\n",
            "22        Veg Cutlet  1.000000\n",
            "39    Veg Manchurian  0.593394\n",
            "43   Chilli Mushroom  0.584488\n",
            "23     Veg Dumplings  0.579886\n",
            "38  Veg Spring Rolls  0.552068\n",
            "44     Chilli Paneer  0.523690\n",
            "41         Baby Corn  0.506590\n",
            "24        Veg Pakora  0.469824\n",
            "90         Veg Kofta  0.429360\n",
            "97     Mix Veg Curry  0.429360\n",
            "27       Seekh Kabab  0.401321\n"
          ]
        }
      ],
      "source": [
        "find_food(\"Veg Cutlet\", topN =10)"
      ]
    },
    {
      "cell_type": "code",
      "execution_count": 49,
      "metadata": {
        "colab": {
          "base_uri": "https://localhost:8080/",
          "height": 607
        },
        "id": "8wh1QDeHc42C",
        "outputId": "5c67e06e-5b79-4a0f-9402-7527ad544787"
      },
      "outputs": [],
      "source": [
        "# display(find_food(\"Fish tikka\", topN =10))\n",
        "# display(find_food(\"Aloo Gobi Masala\", topN =10))\n",
        "# display(find_food(\"Mutton RR\", topN =5))"
      ]
    },
    {
      "cell_type": "code",
      "execution_count": 50,
      "metadata": {
        "id": "oiW_kVL3duF0"
      },
      "outputs": [],
      "source": [
        "import pickle"
      ]
    },
    {
      "cell_type": "code",
      "execution_count": 58,
      "metadata": {},
      "outputs": [],
      "source": [
        "pickle.dump(data, open('food.pkl','wb'))"
      ]
    },
    {
      "cell_type": "code",
      "execution_count": 52,
      "metadata": {},
      "outputs": [],
      "source": [
        "# data[\"DishName\"].values"
      ]
    },
    {
      "cell_type": "code",
      "execution_count": 53,
      "metadata": {},
      "outputs": [],
      "source": [
        "# data.to_dict()"
      ]
    },
    {
      "cell_type": "code",
      "execution_count": 54,
      "metadata": {},
      "outputs": [],
      "source": [
        "# pickle.dump(data.to_dict(), open('foods.pkl','wb'))"
      ]
    },
    {
      "cell_type": "code",
      "execution_count": 59,
      "metadata": {},
      "outputs": [],
      "source": [
        "pickle.dump(cos_sim_matrix, open('similarity.pkl','wb'))"
      ]
    },
    {
      "cell_type": "code",
      "execution_count": 56,
      "metadata": {},
      "outputs": [],
      "source": [
        "# data.iloc[15].DishName"
      ]
    },
    {
      "cell_type": "code",
      "execution_count": null,
      "metadata": {},
      "outputs": [],
      "source": []
    }
  ],
  "metadata": {
    "colab": {
      "provenance": []
    },
    "kernelspec": {
      "display_name": "Python 3.9.13 ('base')",
      "language": "python",
      "name": "python3"
    },
    "language_info": {
      "codemirror_mode": {
        "name": "ipython",
        "version": 3
      },
      "file_extension": ".py",
      "mimetype": "text/x-python",
      "name": "python",
      "nbconvert_exporter": "python",
      "pygments_lexer": "ipython3",
      "version": "3.9.13"
    },
    "vscode": {
      "interpreter": {
        "hash": "fb2757d94173adb79da026b3cd091dd6888a7d7c3f5fe70757978cf552b3b72f"
      }
    }
  },
  "nbformat": 4,
  "nbformat_minor": 0
}
